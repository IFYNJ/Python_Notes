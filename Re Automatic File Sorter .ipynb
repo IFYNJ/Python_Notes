{
 "cells": [
  {
   "cell_type": "code",
   "execution_count": 36,
   "id": "d638d132-3f4e-44a4-8379-791c97765f46",
   "metadata": {},
   "outputs": [],
   "source": [
    "import os, shutil"
   ]
  },
  {
   "cell_type": "code",
   "execution_count": 38,
   "id": "88c86652-0a66-4340-9f1f-4b8f916e13e0",
   "metadata": {},
   "outputs": [],
   "source": [
    "path = r\"D:/Download/\""
   ]
  },
  {
   "cell_type": "code",
   "execution_count": 40,
   "id": "78f99b17-2ec9-4a17-a633-719216b97736",
   "metadata": {},
   "outputs": [
    {
     "data": {
      "text/plain": [
       "['Xle',\n",
       " 'snow view.rar',\n",
       " 'jd.jpeg',\n",
       " \"MICHAEL's Resume.pdf\",\n",
       " 'JFNigeria Supplier Assessment Questionaire.pdf',\n",
       " \"Supplier's Bank Details  (1).pdf\",\n",
       " 'aviam.rar',\n",
       " 'spy86.jpg',\n",
       " 'scan0002.jpg',\n",
       " '-Untitled-.pdf',\n",
       " 'rsz_img_20190419_121824_615.jpg',\n",
       " '1567070276517.pdf',\n",
       " 'Tynor Req.doc',\n",
       " 'QUOTE Turnstar.pdf',\n",
       " 'QUOTE for Turnstile.pdf',\n",
       " 'RNZ Purchase Order April 2020.docx',\n",
       " 'SEO Checklist.pdf',\n",
       " 'NERL_PHYSIO Delivery (1).doc',\n",
       " 'NERL_PHYSIO Delivery 2.pdf',\n",
       " 'NERL_PHYSIO_Invoice 2.pdf',\n",
       " 'REGISTRATION CHECKLIST (2).pdf',\n",
       " 'PamilerinMichael O-Cybersecurity Es-certificate.pdf',\n",
       " 'consent.png',\n",
       " 'IMG_0942.jpg',\n",
       " 'IMG_0943.jpg',\n",
       " 'IMG_0944.jpg',\n",
       " 'IMG_0945.jpg',\n",
       " 'IMG_0946.jpg',\n",
       " 'Christmas 1.jpg',\n",
       " 'Christmas 2.jpg',\n",
       " 'Christmas 3.jpg',\n",
       " 'Christmas 4.jpg']"
      ]
     },
     "execution_count": 40,
     "metadata": {},
     "output_type": "execute_result"
    }
   ],
   "source": [
    "os.listdir(path)"
   ]
  },
  {
   "cell_type": "code",
   "execution_count": 42,
   "id": "73b34756-0b3e-4745-80f4-087b4b1e1713",
   "metadata": {},
   "outputs": [
    {
     "data": {
      "text/plain": [
       "False"
      ]
     },
     "execution_count": 42,
     "metadata": {},
     "output_type": "execute_result"
    }
   ],
   "source": [
    "os.path.exists(path + 'jpg files')"
   ]
  },
  {
   "cell_type": "code",
   "execution_count": 44,
   "id": "2fa412f1-0f04-4a3a-8f8d-1432fc317ffc",
   "metadata": {},
   "outputs": [
    {
     "data": {
      "text/plain": [
       "False"
      ]
     },
     "execution_count": 44,
     "metadata": {},
     "output_type": "execute_result"
    }
   ],
   "source": [
    "os.path.exists(path + 'doc files')"
   ]
  },
  {
   "cell_type": "code",
   "execution_count": 52,
   "id": "dca88a73-f311-437d-af64-c4c24cd877eb",
   "metadata": {},
   "outputs": [],
   "source": [
    "folder_names = ['jpg files', 'docx files', 'pdf files', 'doc files']\n",
    "\n",
    "for loop in range (0,4):\n",
    "   if not os.path.exists(path + folder_names[loop]):\n",
    "        os.makedirs((path + folder_names[loop]))\n",
    "\n"
   ]
  },
  {
   "cell_type": "code",
   "execution_count": 58,
   "id": "42a27374-7c02-4a5d-8872-843b965cc9e3",
   "metadata": {},
   "outputs": [],
   "source": [
    "file_name = os.listdir(path)"
   ]
  },
  {
   "cell_type": "code",
   "execution_count": 60,
   "id": "d555ea59-0612-4ae4-b103-de84692772c1",
   "metadata": {},
   "outputs": [
    {
     "data": {
      "text/plain": [
       "True"
      ]
     },
     "execution_count": 60,
     "metadata": {},
     "output_type": "execute_result"
    }
   ],
   "source": [
    "os.path.exists(path + 'doc files')"
   ]
  },
  {
   "cell_type": "code",
   "execution_count": 62,
   "id": "99cc3d2d-091d-436f-a3d9-e5bed8d1c945",
   "metadata": {},
   "outputs": [
    {
     "data": {
      "text/plain": [
       "True"
      ]
     },
     "execution_count": 62,
     "metadata": {},
     "output_type": "execute_result"
    }
   ],
   "source": [
    "os.path.exists(path + 'jpg files')"
   ]
  },
  {
   "cell_type": "code",
   "execution_count": 64,
   "id": "fcedaf2d-5c22-491b-9a10-e3c9ca48f48e",
   "metadata": {},
   "outputs": [],
   "source": [
    "for file in file_name:\n",
    "    if '.doc' in file and not os.path.exists(path + 'doc files/' + file):\n",
    "        shutil.move(path + file, path + 'doc files/' + file)"
   ]
  },
  {
   "cell_type": "code",
   "execution_count": 67,
   "id": "b2bf6731-fa7b-44aa-a772-00fdcad42547",
   "metadata": {},
   "outputs": [],
   "source": [
    "for file in file_name:\n",
    "    if '.pdf' in file and not os.path.exists(path + 'pdf files/' + file):\n",
    "        shutil.move(path + file, path + 'pdf files/' + file)"
   ]
  },
  {
   "cell_type": "code",
   "execution_count": 69,
   "id": "507b1779-3c43-4f1a-884a-bc37573ce74a",
   "metadata": {},
   "outputs": [],
   "source": [
    "for file in file_name:\n",
    "    if '.jpg' in file and not os.path.exists(path + 'jpg files/' + file):\n",
    "        shutil.move(path + file, path + 'jpg files/' + file)"
   ]
  },
  {
   "cell_type": "code",
   "execution_count": 71,
   "id": "cd89a1dd-9052-4644-8f33-e79a4bda6a5b",
   "metadata": {},
   "outputs": [],
   "source": [
    "for file in file_name:\n",
    "    if '.png' in file and not os.path.exists(path + 'jpg files/' + file):\n",
    "        shutil.move(path + file, path + 'jpg files/' + file)"
   ]
  },
  {
   "cell_type": "code",
   "execution_count": null,
   "id": "4877abee-8158-41ea-b8a4-0184a4fbd3b8",
   "metadata": {},
   "outputs": [],
   "source": []
  }
 ],
 "metadata": {
  "kernelspec": {
   "display_name": "Python 3 (ipykernel)",
   "language": "python",
   "name": "python3"
  },
  "language_info": {
   "codemirror_mode": {
    "name": "ipython",
    "version": 3
   },
   "file_extension": ".py",
   "mimetype": "text/x-python",
   "name": "python",
   "nbconvert_exporter": "python",
   "pygments_lexer": "ipython3",
   "version": "3.12.4"
  }
 },
 "nbformat": 4,
 "nbformat_minor": 5
}
